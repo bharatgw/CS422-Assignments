{
 "cells": [
  {
   "cell_type": "code",
   "execution_count": 1,
   "metadata": {},
   "outputs": [],
   "source": [
    "from pgmpy.models import BayesianNetwork\n",
    "from pgmpy.factors.discrete import TabularCPD\n",
    "from pgmpy.sampling import BayesianModelSampling\n",
    "from pgmpy.inference import VariableElimination"
   ]
  },
  {
   "cell_type": "code",
   "execution_count": 2,
   "metadata": {},
   "outputs": [
    {
     "name": "stderr",
     "output_type": "stream",
     "text": [
      "C:\\Users\\bhara\\AppData\\Local\\Temp\\ipykernel_4652\\3848405760.py:8: DeprecationWarning: `product` is deprecated as of NumPy 1.25.0, and will be removed in NumPy 2.0. Please use `prod` instead.\n",
      "  cpd_F = TabularCPD('F', 2, [[0.998, 0.98], [0.002, 0.02]], [\"T\"], [2])\n",
      "C:\\Users\\bhara\\AppData\\Local\\Temp\\ipykernel_4652\\3848405760.py:9: DeprecationWarning: `product` is deprecated as of NumPy 1.25.0, and will be removed in NumPy 2.0. Please use `prod` instead.\n",
      "  cpd_A = TabularCPD('A', 2, [[0.999, 0.9], [0.001, 0.1]], [\"C\"], [2])\n",
      "C:\\Users\\bhara\\AppData\\Local\\Temp\\ipykernel_4652\\3848405760.py:11: DeprecationWarning: `product` is deprecated as of NumPy 1.25.0, and will be removed in NumPy 2.0. Please use `prod` instead.\n",
      "  cpd_P = TabularCPD('P', 2, [[0.99, 0.9, 0.1, 0.1], [0.01, 0.1, 0.9, 0.9]], ['T', 'F'], [2, 2])\n",
      "C:\\Users\\bhara\\AppData\\Local\\Temp\\ipykernel_4652\\3848405760.py:12: DeprecationWarning: `product` is deprecated as of NumPy 1.25.0, and will be removed in NumPy 2.0. Please use `prod` instead.\n",
      "  cpd_I = TabularCPD('I', 2, [[0.999, 0.99, 0.989, 0.98], [0.001, 0.01, 0.011, 0.02]], ['F', 'C'], [2, 2])\n"
     ]
    }
   ],
   "source": [
    "# Define the Bayesian Network\n",
    "fraudNet = BayesianNetwork([(\"T\", \"F\"), (\"T\", \"P\"), (\"F\", \"P\"), (\"F\", \"I\"), (\"C\", \"I\"), (\"C\", \"A\")])\n",
    "\n",
    "# Define the CPDs\n",
    "cpd_T = TabularCPD('T', 2, [[0.92], [0.08]])\n",
    "cpd_C = TabularCPD('C', 2, [[0.40], [0.60]])\n",
    "\n",
    "cpd_F = TabularCPD('F', 2, [[0.998, 0.98], [0.002, 0.02]], [\"T\"], [2])\n",
    "cpd_A = TabularCPD('A', 2, [[0.999, 0.9], [0.001, 0.1]], [\"C\"], [2])\n",
    "\n",
    "cpd_P = TabularCPD('P', 2, [[0.99, 0.9, 0.1, 0.1], [0.01, 0.1, 0.9, 0.9]], ['T', 'F'], [2, 2])\n",
    "cpd_I = TabularCPD('I', 2, [[0.999, 0.99, 0.989, 0.98], [0.001, 0.01, 0.011, 0.02]], ['F', 'C'], [2, 2])\n",
    "\n",
    "# Add CPDs to the model\n",
    "fraudNet.add_cpds(cpd_T, cpd_C, cpd_F, cpd_A, cpd_P, cpd_I)"
   ]
  },
  {
   "cell_type": "code",
   "execution_count": 3,
   "metadata": {},
   "outputs": [
    {
     "name": "stdout",
     "output_type": "stream",
     "text": [
      "+------+-------+------+-------+------+\n",
      "| F    | F(0)  | F(0) | F(1)  | F(1) |\n",
      "+------+-------+------+-------+------+\n",
      "| C    | C(0)  | C(1) | C(0)  | C(1) |\n",
      "+------+-------+------+-------+------+\n",
      "| I(0) | 0.999 | 0.99 | 0.989 | 0.98 |\n",
      "+------+-------+------+-------+------+\n",
      "| I(1) | 0.001 | 0.01 | 0.011 | 0.02 |\n",
      "+------+-------+------+-------+------+\n"
     ]
    }
   ],
   "source": [
    "print(fraudNet.get_cpds()[5])"
   ]
  },
  {
   "cell_type": "code",
   "execution_count": 4,
   "metadata": {},
   "outputs": [
    {
     "data": {
      "application/vnd.jupyter.widget-view+json": {
       "model_id": "fcece35aa43848cdac9ef81aef1934af",
       "version_major": 2,
       "version_minor": 0
      },
      "text/plain": [
       "  0%|          | 0/6 [00:00<?, ?it/s]"
      ]
     },
     "metadata": {},
     "output_type": "display_data"
    },
    {
     "name": "stdout",
     "output_type": "stream",
     "text": [
      "0    0.99667\n",
      "1    0.00333\n",
      "Name: F, dtype: float64\n",
      "+------+----------+\n",
      "| F    |   phi(F) |\n",
      "+======+==========+\n",
      "| F(0) |   0.9966 |\n",
      "+------+----------+\n",
      "| F(1) |   0.0034 |\n",
      "+------+----------+\n"
     ]
    }
   ],
   "source": [
    "# Prior Probability of Fraud\n",
    "samples = BayesianModelSampling(fraudNet).likelihood_weighted_sample(evidence = [], size = 100000, seed = 123)\n",
    "print(samples[\"F\"].value_counts(normalize = True))\n",
    "\n",
    "inference = VariableElimination(fraudNet)\n",
    "print(inference.query(['F'], evidence = {}))"
   ]
  },
  {
   "cell_type": "code",
   "execution_count": 5,
   "metadata": {},
   "outputs": [
    {
     "data": {
      "application/vnd.jupyter.widget-view+json": {
       "model_id": "d5bc5d19c38c457886e02bad064d431e",
       "version_major": 2,
       "version_minor": 0
      },
      "text/plain": [
       "  0%|          | 0/6 [00:00<?, ?it/s]"
      ]
     },
     "metadata": {},
     "output_type": "display_data"
    },
    {
     "name": "stdout",
     "output_type": "stream",
     "text": [
      "0.0051847827934045415\n",
      "+------+----------+\n",
      "| F    |   phi(F) |\n",
      "+======+==========+\n",
      "| F(0) |   0.9948 |\n",
      "+------+----------+\n",
      "| F(1) |   0.0052 |\n",
      "+------+----------+\n"
     ]
    }
   ],
   "source": [
    "samples = BayesianModelSampling(fraudNet).likelihood_weighted_sample(evidence = [(\"P\", 0), (\"I\", 1), (\"A\", 0)], size = 100000, seed = 123)\n",
    "total_weight = samples._weight.sum()\n",
    "print(samples[samples[\"F\"] == 1][\"_weight\"].sum()/total_weight)\n",
    "\n",
    "inference = VariableElimination(fraudNet)\n",
    "print(inference.query(['F'], evidence = {\"P\":0, \"I\":1, \"A\":0}))"
   ]
  },
  {
   "cell_type": "code",
   "execution_count": 6,
   "metadata": {},
   "outputs": [
    {
     "data": {
      "application/vnd.jupyter.widget-view+json": {
       "model_id": "6fb7caabe4754bf38f69eecebfc4ac2f",
       "version_major": 2,
       "version_minor": 0
      },
      "text/plain": [
       "  0%|          | 0/6 [00:00<?, ?it/s]"
      ]
     },
     "metadata": {},
     "output_type": "display_data"
    },
    {
     "name": "stdout",
     "output_type": "stream",
     "text": [
      "0.05113310542253096\n",
      "+------+----------+\n",
      "| F    |   phi(F) |\n",
      "+======+==========+\n",
      "| F(0) |   0.9492 |\n",
      "+------+----------+\n",
      "| F(1) |   0.0508 |\n",
      "+------+----------+\n"
     ]
    }
   ],
   "source": [
    "samples = BayesianModelSampling(fraudNet).likelihood_weighted_sample(evidence = [(\"P\", 0), (\"I\", 1), (\"A\", 0), (\"T\", 1)], size = 100000, seed = 123)\n",
    "total_weight = samples._weight.sum()\n",
    "print(samples[samples[\"F\"] == 1][\"_weight\"].sum()/total_weight)\n",
    "\n",
    "inference = VariableElimination(fraudNet)\n",
    "print(inference.query(['F'], evidence = {\"P\":0, \"I\":1, \"A\":0, \"T\":1}))"
   ]
  }
 ],
 "metadata": {
  "kernelspec": {
   "display_name": "everything",
   "language": "python",
   "name": "python3"
  },
  "language_info": {
   "codemirror_mode": {
    "name": "ipython",
    "version": 3
   },
   "file_extension": ".py",
   "mimetype": "text/x-python",
   "name": "python",
   "nbconvert_exporter": "python",
   "pygments_lexer": "ipython3",
   "version": "3.11.4"
  },
  "orig_nbformat": 4
 },
 "nbformat": 4,
 "nbformat_minor": 2
}
