{
 "cells": [
  {
   "cell_type": "code",
   "execution_count": 319,
   "metadata": {},
   "outputs": [],
   "source": [
    "import numpy as np"
   ]
  },
  {
   "cell_type": "code",
   "execution_count": 320,
   "metadata": {},
   "outputs": [],
   "source": [
    "findp = np.array([0.2, 0.6, 0.4, 0.7])\n",
    "transProb = np.array([[0, 0.4, 0.2, 0.4],\n",
    "                      [0.6, 0, 0.4, 0],\n",
    "                      [0.6, 0, 0, 0.4],\n",
    "                      [0.4, 0.6, 0, 0]])\n",
    "fares = np.array([[0, 25, 12, 6],\n",
    "                [10, 0, 8, 0],\n",
    "                [15, 0, 0, 9],\n",
    "                [11, 5, 0, 0]])\n",
    "costs = np.array([[0, 1, 1.5, 1.25],\n",
    "                [1, 0, 1.75, 1],\n",
    "                [1.5, 1, 0, 1.2],\n",
    "                [1.25, 1, 1, 0]])\n",
    "profits = fares - costs"
   ]
  },
  {
   "cell_type": "code",
   "execution_count": 331,
   "metadata": {},
   "outputs": [
    {
     "name": "stdout",
     "output_type": "stream",
     "text": [
      "[[ 2.72  -1.    -1.5   -1.25 ]\n",
      " [-1.     4.74  -1.75  -1.   ]\n",
      " [-1.5   -1.     4.488 -1.2  ]\n",
      " [-1.25  -1.    -1.     4.41 ]] [2.72  4.74  4.488 4.41 ]\n",
      "[[5.653144 1.584    1.084    1.334   ]\n",
      " [3.503    8.494704 2.753    3.503   ]\n",
      " [2.7636   3.2636   8.33664  3.0636  ]\n",
      " [2.9395   3.1895   3.1895   8.28163 ]] [5.653144 8.494704 8.33664  8.28163 ]\n",
      "[0 1 2 3]\n"
     ]
    }
   ],
   "source": [
    "v = np.zeros(4)\n",
    "q = np.zeros([4, 4])\n",
    "gamma = 0.95\n",
    "\n",
    "for i in range(2):\n",
    "    pickup = np.diag(findp*np.sum(transProb*(profits + gamma*v), axis = 1) + (1-findp)*gamma*v)\n",
    "    move = -costs + gamma*v.reshape(4,1)\n",
    "    np.fill_diagonal(move, 0)\n",
    "    q = pickup + move\n",
    "    v = np.max(q, axis=1)\n",
    "    print(q, v)\n",
    "\n",
    "print(np.argmax(q, axis=1))"
   ]
  },
  {
   "cell_type": "code",
   "execution_count": 322,
   "metadata": {},
   "outputs": [
    {
     "name": "stdout",
     "output_type": "stream",
     "text": [
      "[67.8364 71.3913 71.5903 71.2442]\n"
     ]
    }
   ],
   "source": [
    "from pulp import *\n",
    "\n",
    "gamma = 0.95\n",
    "\n",
    "model = LpProblem(\"Taxi\", LpMinimize)\n",
    "v1 = LpVariable(\"V(L1)\", 0, None, LpContinuous)\n",
    "v2 = LpVariable(\"V(L2)\", 0, None, LpContinuous) \n",
    "v3 = LpVariable(\"V(L3)\", 0, None, LpContinuous)\n",
    "v4 = LpVariable(\"V(L4)\", 0, None, LpContinuous)\n",
    "\n",
    "model += v1 + v2 + v3 + v4\n",
    "\n",
    "model += v1 >= 0.2*(0.4*(24 + gamma*v2) + 0.2*(10.5+gamma*v3) + 0.4*(4.75 + gamma*v4)) + 0.8*(gamma*v1)\n",
    "model += v1 >= -1 + gamma*v2\n",
    "model += v1 >= -1.5 + gamma*v3\n",
    "model += v1 >= -1.25 + gamma*v4\n",
    "model += v2 >= -1 + gamma*v1\n",
    "model += v2 >= 0.6*(0.6*(9 + gamma*v1) + 0.4*(6.25 + gamma*v3)) + 0.4*(gamma*v2)\n",
    "model += v2 >= -1.75 + gamma*v3\n",
    "model += v2 >= -1 + gamma*v4\n",
    "model += v3 >= -1.5 + gamma*v1\n",
    "model += v3 >= -1 + gamma*v2\n",
    "model += v3 >= 0.4*(0.6*(13.5 + gamma*v1) + 0.4*(7.8 + gamma*v4)) + 0.6*(gamma*v3)\n",
    "model += v3 >= -1.2 + gamma*v4\n",
    "model += v4 >= -1.25 + gamma*v1\n",
    "model += v4 >= -1 + gamma*v2\n",
    "model += v4 >= -1 + gamma*v3\n",
    "model += v4 >= 0.7*(0.4*(9.75 + gamma*v1) + 0.6*(4 + gamma*v2)) + 0.3*(gamma*v4)\n",
    "\n",
    "model.solve()\n",
    "\n",
    "v = np.array([vi.varValue for vi in model.variables()])\n",
    "print(v)"
   ]
  },
  {
   "cell_type": "code",
   "execution_count": 323,
   "metadata": {},
   "outputs": [
    {
     "name": "stdout",
     "output_type": "stream",
     "text": [
      "[0 1 2 3]\n"
     ]
    }
   ],
   "source": [
    "q = np.zeros([4, 4])\n",
    "gamma = 0.95\n",
    "\n",
    "for i in range(1):\n",
    "    pickup = np.diag(findp*np.sum(transProb*(profits + gamma*v), axis = 1) + (1-findp)*gamma*v)\n",
    "    move = -costs + gamma*v.reshape(4,1)\n",
    "    np.fill_diagonal(move, 0)\n",
    "    q = pickup + move\n",
    "\n",
    "print(np.argmax(q, axis=1))"
   ]
  }
 ],
 "metadata": {
  "kernelspec": {
   "display_name": "everything",
   "language": "python",
   "name": "python3"
  },
  "language_info": {
   "codemirror_mode": {
    "name": "ipython",
    "version": 3
   },
   "file_extension": ".py",
   "mimetype": "text/x-python",
   "name": "python",
   "nbconvert_exporter": "python",
   "pygments_lexer": "ipython3",
   "version": "3.11.4"
  },
  "orig_nbformat": 4
 },
 "nbformat": 4,
 "nbformat_minor": 2
}
