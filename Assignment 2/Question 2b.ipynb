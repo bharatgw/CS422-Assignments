{
 "cells": [
  {
   "cell_type": "code",
   "execution_count": 1,
   "metadata": {},
   "outputs": [],
   "source": [
    "import gymnasium as gym\n",
    "import tensorflow as tf\n",
    "import tensorflow_probability as tfp\n",
    "import numpy as np\n",
    "import matplotlib.pyplot as plt\n",
    "from tqdm import tqdm"
   ]
  },
  {
   "cell_type": "code",
   "execution_count": 2,
   "metadata": {},
   "outputs": [],
   "source": [
    "def create_model(number_observation_features: int, number_actions: int) -> tf.keras.Sequential:\n",
    "\n",
    "    hidden_layer_features = 128\n",
    "\n",
    "    return tf.keras.Sequential([\n",
    "        tf.keras.layers.Dense(hidden_layer_features, activation='relu', input_shape=(number_observation_features,)),\n",
    "        tf.keras.layers.Dense(number_actions)]\n",
    "    )\n",
    "\n",
    "\n",
    "def get_policy(model: tf.keras.Sequential, observation: np.ndarray) -> tfp.distributions.Categorical:\n",
    "\n",
    "    logits = model(observation)\n",
    "\n",
    "    # Categorical will also normalize the logits for us\n",
    "    return tfp.distributions.Categorical(logits=logits)\n",
    "\n",
    "\n",
    "def get_action(policy: tfp.distributions.Categorical) -> tuple[int, tf.Tensor]:\n",
    "\n",
    "    action = policy.sample()  # Unit tensor\n",
    "\n",
    "    # Converts to an int, as this is what Gym environments require\n",
    "    action_int = action.numpy()[0]\n",
    "\n",
    "    # Calculate the log probability of the action, which is required for\n",
    "    # calculating the loss later\n",
    "    log_probability_action = policy.log_prob(action)\n",
    "\n",
    "    return action_int, log_probability_action\n",
    "\n",
    "\n",
    "def calculate_loss(epoch_log_probability_actions: tf.Tensor, epoch_action_rewards: tf.Tensor) -> tf.Tensor:\n",
    "    epoch_action_rewards = (epoch_action_rewards - tf.reduce_mean(epoch_action_rewards))/tf.math.reduce_std(epoch_action_rewards) # Normalize rewards\n",
    "    return -tf.reduce_mean(epoch_log_probability_actions * epoch_action_rewards)\n",
    "\n",
    "\n",
    "def train_one_epoch(\n",
    "        env: gym.Env,\n",
    "        model: tf.keras.Sequential,\n",
    "        optimizer: tf.keras.optimizers.Adam,\n",
    "        max_timesteps=5000,\n",
    "        episode_timesteps=1500,\n",
    "        rewardType = \"act\") -> float:\n",
    "\n",
    "    epoch_total_timesteps = 0\n",
    "\n",
    "    # Returns from each episode (to keep track of progress)\n",
    "    epoch_returns: list[float] = []\n",
    "\n",
    "    # Action log probabilities and rewards per step (for calculating loss)\n",
    "    epoch_log_probability_actions = []\n",
    "    epoch_action_rewards = []\n",
    "\n",
    "    with tf.GradientTape(watch_accessed_variables=False) as tape:\n",
    "        tape.watch(model.trainable_variables)\n",
    "        # Loop through episodes\n",
    "        while True:\n",
    "\n",
    "            # Stop if we've done over the total number of timesteps\n",
    "            if epoch_total_timesteps > max_timesteps:\n",
    "                break\n",
    "\n",
    "            # Running total of this episode's rewards\n",
    "            episode_reward: float = 0\n",
    "            episode_rewards: list[float] = []\n",
    "\n",
    "            # Reset the environment and get a fresh observation\n",
    "            observation, info = env.reset()\n",
    "            observation = process_state(observation)\n",
    "\n",
    "            # Loop through timesteps until the episode is done (or the max is hit)\n",
    "            for timestep in range(episode_timesteps):\n",
    "                epoch_total_timesteps += 1\n",
    "\n",
    "                # Get the policy and act\n",
    "                policy = get_policy(model, observation)\n",
    "                action, log_probability_action = get_action(policy)\n",
    "                action = map_action(action)\n",
    "                observation, reward, terminated, truncated, info = env.step(action)\n",
    "                observation = process_state(observation)\n",
    "                done = terminated or truncated\n",
    "\n",
    "                # Add the reward to the episode total\n",
    "                episode_rewards.append(-abs(observation[0][ramDict[\"ball_y\"]] - observation[0][ramDict[\"player_y\"]])) # Punishment for not moving towards the ball\n",
    "                episode_reward += reward\n",
    "                \n",
    "                # Add epoch action log probabilities\n",
    "                epoch_log_probability_actions.append(log_probability_action)\n",
    "\n",
    "                # Finish the action loop if this episode is done\n",
    "                if done:\n",
    "                    # Add one reward per timestep\n",
    "                    if rewardType == \"const\":\n",
    "                        epoch_action_rewards.extend([x + episode_reward for x in episode_rewards])\n",
    "                    else:\n",
    "                        epoch_action_rewards.extend([episode_reward for _ in range(timestep + 1)])\n",
    "\n",
    "                    break\n",
    "\n",
    "            # Increment the epoch returns\n",
    "            epoch_returns.append(episode_reward)\n",
    "            \n",
    "        epoch_loss = calculate_loss(tf.convert_to_tensor(epoch_log_probability_actions, tf.float64), tf.convert_to_tensor(epoch_action_rewards, tf.float64))\n",
    "\n",
    "    # Calculate the policy gradient, and use it to step the weights & biases\n",
    "    gradients = tape.gradient(epoch_loss, model.trainable_variables)\n",
    "    optimizer.apply_gradients(zip(gradients, model.trainable_variables))\n",
    "\n",
    "    return float(np.mean(epoch_returns))\n",
    "\n",
    "ramDict = dict(player_y=51, player_x=46, enemy_y=50, enemy_x=45, ball_x=49, ball_y=54) # Retrieved from github.com/mila-iqia/atari-representation-learning\n",
    "def process_state(state):\n",
    "    state = state.reshape(1, -1)\n",
    "    state = state/255\n",
    "    return state\n",
    "\n",
    "def map_action(action):\n",
    "    action_map = {0:0, 1:4, 2:5}\n",
    "    return action_map[action]\n",
    "\n",
    "def train(epochs=50, rewardType = \"act\") -> None:\n",
    "\n",
    "    # Create the Gym Environment\n",
    "    env = gym.make('ALE/Pong-ram-v5')\n",
    "\n",
    "    # Use random seeds (to make experiments deterministic)\n",
    "    tf.random.set_seed(0)\n",
    "\n",
    "    # Create the MLP model\n",
    "    number_observation_features = env.observation_space.shape[0]\n",
    "    number_actions = 3\n",
    "    model = create_model(number_observation_features, number_actions)\n",
    "\n",
    "    # Create the optimizer\n",
    "    optimizer = tf.keras.optimizers.Adam(learning_rate = 1e-2)\n",
    "    \n",
    "    returns_over_epochs = []\n",
    "    # Loop for each epoch\n",
    "    for epoch in tqdm(range(epochs)):\n",
    "        average_return = train_one_epoch(env, model, optimizer, rewardType = rewardType)\n",
    "        returns_over_epochs.append(average_return)\n",
    "        print('epoch: %3d \\t return: %.3f' % (epoch, average_return))\n",
    "        if (epoch+1) % 10 == 0:\n",
    "            model.save_weights(f\"./q2b/{rewardType}RewardModel{epoch}\")\n",
    "\n",
    "    plt.plot(returns_over_epochs)\n",
    "    return model, returns_over_epochs"
   ]
  },
  {
   "cell_type": "code",
   "execution_count": null,
   "metadata": {},
   "outputs": [],
   "source": [
    "policyNet, train_returnsAct = train(30)"
   ]
  },
  {
   "cell_type": "code",
   "execution_count": 3,
   "metadata": {},
   "outputs": [
    {
     "data": {
      "text/plain": [
       "[<matplotlib.lines.Line2D at 0x25655997b20>]"
      ]
     },
     "execution_count": 3,
     "metadata": {},
     "output_type": "execute_result"
    },
    {
     "data": {
      "image/png": "[encoded data removed]",
      "text/plain": [
       "<Figure size 640x480 with 1 Axes>"
      ]
     },
     "metadata": {},
     "output_type": "display_data"
    }
   ],
   "source": [
    "train_returns = [-20.167, -20.714, -20.500, -21.000, -20.667, -20.500, -20.667, -20.833, -20.667, -20.500, -20.571, -20.833, -20.667, -20.833, -20.667, -20.714, -20.833, -20.714, -20.667, -20.714, -20.833, -20.667, -20.500, -20.833, -20.857, -20.667, -20.500, -20.667, -20.833, -20.857, -20.667, -20.500, -20.333, -20.667, -20.667, -20.500, -20.667, -20.500, -20.500, -20.333, -21.000, -20.833, -20.833, -20.667, -20.500, -20.833, -20.833, -21.000, -20.500, -20.500, -20.833, -20.667, -20.500, -20.833, -20.833, -20.167, -20.833, -20.667, -20.500, -20.500, -20.167, -20.500, -20.667, -20.667, -20.833, -21.000, -20.500, -20.667, -20.667, -20.667, -20.167, -20.667, -20.667, -20.667, -20.667, -20.833, -20.500, -20.667, -21.000, -20.333, -20.667, -20.833, -20.667, -20.667, -20.667, -20.667, -20.667, -20.333]\n",
    "\n",
    "plt.plot(train_returns)"
   ]
  },
  {
   "cell_type": "code",
   "execution_count": 4,
   "metadata": {},
   "outputs": [
    {
     "name": "stderr",
     "output_type": "stream",
     "text": [
      " 58%|█████▊    | 29/50 [48:25<38:56, 111.26s/it]"
     ]
    },
    {
     "name": "stdout",
     "output_type": "stream",
     "text": [
      "epoch:  28 \t return: -20.714\n"
     ]
    },
    {
     "name": "stderr",
     "output_type": "stream",
     "text": [
      " 60%|██████    | 30/50 [50:16<37:03, 111.20s/it]"
     ]
    },
    {
     "name": "stdout",
     "output_type": "stream",
     "text": [
      "epoch:  29 \t return: -20.857\n"
     ]
    },
    {
     "name": "stderr",
     "output_type": "stream",
     "text": [
      " 62%|██████▏   | 31/50 [51:53<33:51, 106.95s/it]"
     ]
    },
    {
     "name": "stdout",
     "output_type": "stream",
     "text": [
      "epoch:  30 \t return: -20.857\n"
     ]
    },
    {
     "name": "stderr",
     "output_type": "stream",
     "text": [
      " 64%|██████▍   | 32/50 [54:10<34:48, 116.00s/it]"
     ]
    },
    {
     "name": "stdout",
     "output_type": "stream",
     "text": [
      "epoch:  31 \t return: -20.714\n"
     ]
    },
    {
     "name": "stderr",
     "output_type": "stream",
     "text": [
      " 66%|██████▌   | 33/50 [56:12<33:21, 117.72s/it]"
     ]
    },
    {
     "name": "stdout",
     "output_type": "stream",
     "text": [
      "epoch:  32 \t return: -20.714\n"
     ]
    },
    {
     "name": "stderr",
     "output_type": "stream",
     "text": [
      " 68%|██████▊   | 34/50 [57:34<28:34, 107.15s/it]"
     ]
    },
    {
     "name": "stdout",
     "output_type": "stream",
     "text": [
      "epoch:  33 \t return: -20.857\n"
     ]
    },
    {
     "name": "stderr",
     "output_type": "stream",
     "text": [
      " 70%|███████   | 35/50 [58:58<25:01, 100.11s/it]"
     ]
    },
    {
     "name": "stdout",
     "output_type": "stream",
     "text": [
      "epoch:  34 \t return: -20.857\n"
     ]
    },
    {
     "name": "stderr",
     "output_type": "stream",
     "text": [
      " 72%|███████▏  | 36/50 [1:00:43<23:41, 101.52s/it]"
     ]
    },
    {
     "name": "stdout",
     "output_type": "stream",
     "text": [
      "epoch:  35 \t return: -20.714\n"
     ]
    },
    {
     "name": "stderr",
     "output_type": "stream",
     "text": [
      " 74%|███████▍  | 37/50 [1:02:49<23:37, 109.01s/it]"
     ]
    },
    {
     "name": "stdout",
     "output_type": "stream",
     "text": [
      "epoch:  36 \t return: -21.000\n"
     ]
    },
    {
     "name": "stderr",
     "output_type": "stream",
     "text": [
      " 76%|███████▌  | 38/50 [1:04:25<21:01, 105.11s/it]"
     ]
    },
    {
     "name": "stdout",
     "output_type": "stream",
     "text": [
      "epoch:  37 \t return: -21.000\n"
     ]
    },
    {
     "name": "stderr",
     "output_type": "stream",
     "text": [
      " 78%|███████▊  | 39/50 [1:05:50<18:07, 98.90s/it] "
     ]
    },
    {
     "name": "stdout",
     "output_type": "stream",
     "text": [
      "epoch:  38 \t return: -21.000\n"
     ]
    },
    {
     "name": "stderr",
     "output_type": "stream",
     "text": [
      " 80%|████████  | 40/50 [1:07:16<15:52, 95.24s/it]"
     ]
    },
    {
     "name": "stdout",
     "output_type": "stream",
     "text": [
      "epoch:  39 \t return: -21.000\n"
     ]
    },
    {
     "name": "stderr",
     "output_type": "stream",
     "text": [
      " 82%|████████▏ | 41/50 [1:08:40<13:45, 91.72s/it]"
     ]
    },
    {
     "name": "stdout",
     "output_type": "stream",
     "text": [
      "epoch:  40 \t return: -21.000\n"
     ]
    },
    {
     "name": "stderr",
     "output_type": "stream",
     "text": [
      " 84%|████████▍ | 42/50 [1:10:09<12:06, 90.80s/it]"
     ]
    },
    {
     "name": "stdout",
     "output_type": "stream",
     "text": [
      "epoch:  41 \t return: -21.000\n"
     ]
    },
    {
     "name": "stderr",
     "output_type": "stream",
     "text": [
      " 86%|████████▌ | 43/50 [1:11:38<10:32, 90.37s/it]"
     ]
    },
    {
     "name": "stdout",
     "output_type": "stream",
     "text": [
      "epoch:  42 \t return: -20.857\n"
     ]
    },
    {
     "name": "stderr",
     "output_type": "stream",
     "text": [
      " 88%|████████▊ | 44/50 [1:13:06<08:57, 89.53s/it]"
     ]
    },
    {
     "name": "stdout",
     "output_type": "stream",
     "text": [
      "epoch:  43 \t return: -21.000\n"
     ]
    },
    {
     "name": "stderr",
     "output_type": "stream",
     "text": [
      " 90%|█████████ | 45/50 [1:14:38<07:31, 90.38s/it]"
     ]
    },
    {
     "name": "stdout",
     "output_type": "stream",
     "text": [
      "epoch:  44 \t return: -20.857\n"
     ]
    },
    {
     "name": "stderr",
     "output_type": "stream",
     "text": [
      " 92%|█████████▏| 46/50 [1:16:08<06:01, 90.29s/it]"
     ]
    },
    {
     "name": "stdout",
     "output_type": "stream",
     "text": [
      "epoch:  45 \t return: -21.000\n"
     ]
    },
    {
     "name": "stderr",
     "output_type": "stream",
     "text": [
      " 94%|█████████▍| 47/50 [1:17:46<04:38, 92.74s/it]"
     ]
    },
    {
     "name": "stdout",
     "output_type": "stream",
     "text": [
      "epoch:  46 \t return: -20.857\n"
     ]
    },
    {
     "name": "stderr",
     "output_type": "stream",
     "text": [
      " 96%|█████████▌| 48/50 [1:20:03<03:31, 105.87s/it]"
     ]
    },
    {
     "name": "stdout",
     "output_type": "stream",
     "text": [
      "epoch:  47 \t return: -21.000\n"
     ]
    },
    {
     "name": "stderr",
     "output_type": "stream",
     "text": [
      " 98%|█████████▊| 49/50 [1:21:42<01:43, 103.93s/it]"
     ]
    },
    {
     "name": "stdout",
     "output_type": "stream",
     "text": [
      "epoch:  48 \t return: -20.571\n"
     ]
    },
    {
     "name": "stderr",
     "output_type": "stream",
     "text": [
      "100%|██████████| 50/50 [1:23:16<00:00, 99.92s/it] "
     ]
    },
    {
     "name": "stdout",
     "output_type": "stream",
     "text": [
      "epoch:  49 \t return: -21.000\n"
     ]
    },
    {
     "name": "stderr",
     "output_type": "stream",
     "text": [
      "\n"
     ]
    },
    {
     "data": {
      "image/png": "[encoded data removed]",
      "text/plain": [
       "<Figure size 640x480 with 1 Axes>"
      ]
     },
     "metadata": {},
     "output_type": "display_data"
    }
   ],
   "source": [
    "policyNet, train_returnsConst = train(50, \"const\")"
   ]
  },
  {
   "cell_type": "code",
   "execution_count": 3,
   "metadata": {},
   "outputs": [
    {
     "name": "stderr",
     "output_type": "stream",
     "text": [
      "100%|██████████| 10/10 [01:56<00:00, 11.64s/it]\n"
     ]
    }
   ],
   "source": [
    "testEnv = gym.make('ALE/Pong-ram-v5')\n",
    "policyNet = create_model(testEnv.observation_space.shape[0], 3)\n",
    "policyNet.load_weights(\"./q2b/constRewardModel49\")\n",
    "epsRewards = []\n",
    "for _ in tqdm(range(10)):\n",
    "    observation, info = testEnv.reset()\n",
    "    observation = process_state(observation)\n",
    "    episode_reward = 0\n",
    "    while True:\n",
    "        policy = get_policy(policyNet, observation)\n",
    "        action, _ = get_action(policy)\n",
    "        action = map_action(action)\n",
    "        observation, reward, terminated, truncated, info = testEnv.step(action)\n",
    "        observation = process_state(observation)\n",
    "        episode_reward += reward\n",
    "        if terminated or truncated:\n",
    "            epsRewards.append(episode_reward)\n",
    "            break\n",
    "\n",
    "plt.plot(epsRewards)"
   ]
  },
  {
   "cell_type": "code",
   "execution_count": 4,
   "metadata": {},
   "outputs": [
    {
     "data": {
      "text/plain": [
       "[<matplotlib.lines.Line2D at 0x16d12e701c0>]"
      ]
     },
     "execution_count": 4,
     "metadata": {},
     "output_type": "execute_result"
    },
    {
     "data": {
      "image/png": "[encoded data removed]",
      "text/plain": [
       "<Figure size 640x480 with 1 Axes>"
      ]
     },
     "metadata": {},
     "output_type": "display_data"
    }
   ],
   "source": []
  }
 ],
 "metadata": {
  "kernelspec": {
   "display_name": "tf",
   "language": "python",
   "name": "python3"
  },
  "language_info": {
   "codemirror_mode": {
    "name": "ipython",
    "version": 3
   },
   "file_extension": ".py",
   "mimetype": "text/x-python",
   "name": "python",
   "nbconvert_exporter": "python",
   "pygments_lexer": "ipython3",
   "version": "3.9.18"
  }
 },
 "nbformat": 4,
 "nbformat_minor": 2
}
